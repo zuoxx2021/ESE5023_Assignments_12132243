{
 "cells": [
  {
   "cell_type": "code",
   "execution_count": null,
   "id": "4362ad83",
   "metadata": {},
   "outputs": [],
   "source": [
    "# Make sure you are under the cper environment\n",
    "\n",
    "# Import modules\n",
    "import numpy as np\n",
    "import xarray as xr\n",
    "import dask.array as da\n",
    "from dask.distributed import Client\n",
    "from dask import delayed\n",
    "from time import sleep"
   ]
  },
  {
   "cell_type": "code",
   "execution_count": null,
   "id": "020067b0",
   "metadata": {},
   "outputs": [],
   "source": [
    "# Use the distributed scheduler to form a local cluster\n",
    "# 4 works, 1 thread (CPU) per work\n",
    "my_client = Client(n_workers=4, threads_per_worker=1)\n",
    "\n",
    "# Show information of the local cluster\n",
    "my_client.cluster"
   ]
  },
  {
   "cell_type": "code",
   "execution_count": null,
   "id": "b9174fb7",
   "metadata": {},
   "outputs": [],
   "source": [
    "# Define two functions\n",
    "def fun1(x):\n",
    "    sleep(1)\n",
    "    return x + 1\n",
    "\n",
    "def fun2(x, y):\n",
    "    sleep(1)\n",
    "    return x + y"
   ]
  },
  {
   "cell_type": "code",
   "execution_count": null,
   "id": "5cab475d",
   "metadata": {},
   "outputs": [],
   "source": [
    "%%time\n",
    "\n",
    "# This takes three seconds to run because we call each\n",
    "# function sequentially, one after the other\n",
    "x = fun1(1)\n",
    "y = fun1(2)\n",
    "z = fun2(x, y)"
   ]
  },
  {
   "cell_type": "code",
   "execution_count": null,
   "id": "13db34f2",
   "metadata": {},
   "outputs": [],
   "source": [
    "%%time\n",
    "\n",
    "# This runs immediately, all it does is build a graph\n",
    "x = delayed(fun1)(1)\n",
    "y = delayed(fun1)(2)\n",
    "z = delayed(fun2)(x, y)"
   ]
  },
  {
   "cell_type": "code",
   "execution_count": null,
   "id": "43383227",
   "metadata": {},
   "outputs": [],
   "source": [
    "%%time\n",
    "\n",
    "# This actually runs our computation using a local cluster\n",
    "z.compute()"
   ]
  },
  {
   "cell_type": "code",
   "execution_count": null,
   "id": "5739d055",
   "metadata": {},
   "outputs": [],
   "source": [
    "# z is a lazy delayed object\n",
    "z"
   ]
  },
  {
   "cell_type": "code",
   "execution_count": null,
   "id": "c1dbb5b1",
   "metadata": {},
   "outputs": [],
   "source": [
    "# Look at the task graph for z\n",
    "z.visualize()"
   ]
  },
  {
   "cell_type": "code",
   "execution_count": null,
   "id": "9ee0b8ef",
   "metadata": {},
   "outputs": [],
   "source": [
    "# Make a simple list\n",
    "#data = [1, 2, 3, 4]\n",
    "data = [1, 2, 3, 4, 5, 6, 7, 8]"
   ]
  },
  {
   "cell_type": "code",
   "execution_count": null,
   "id": "d63d50f5",
   "metadata": {},
   "outputs": [],
   "source": [
    "%%time\n",
    "\n",
    "# Loop element one by one\n",
    "# Sequential code\n",
    "results = []\n",
    "\n",
    "for i in data:\n",
    "    temp = fun1(i)\n",
    "    results.append(temp)\n",
    "\n",
    "total = sum(results)"
   ]
  },
  {
   "cell_type": "code",
   "execution_count": null,
   "id": "25931e7a",
   "metadata": {},
   "outputs": [],
   "source": [
    "total"
   ]
  },
  {
   "cell_type": "code",
   "execution_count": null,
   "id": "9458c54e",
   "metadata": {},
   "outputs": [],
   "source": [
    "%%time\n",
    "\n",
    "# Parallel code \n",
    "results = []\n",
    "\n",
    "for i in data:\n",
    "    temp = delayed(fun1)(i)\n",
    "    results.append(temp)\n",
    "    \n",
    "total = delayed(sum)(results)\n",
    "\n",
    "# Let's see what type of thing total is\n",
    "print(\"Before computing:\", total)\n",
    "\n",
    "# Compute\n",
    "result = total.compute()\n",
    "\n",
    "# After it's computed\n",
    "print(\"After computing :\", result)  "
   ]
  },
  {
   "cell_type": "code",
   "execution_count": null,
   "id": "2aa75654",
   "metadata": {},
   "outputs": [],
   "source": [
    "# Look at the task graph for total\n",
    "total.visualize()"
   ]
  },
  {
   "cell_type": "code",
   "execution_count": null,
   "id": "5d00ec4f",
   "metadata": {},
   "outputs": [],
   "source": [
    "# Load the first file with xarray\n",
    "ds_first = xr.open_dataset('aviso_2015/dt_global_allsat_madt_h_20150101_20150914.nc')\n",
    "\n",
    "# Check the data\n",
    "ds_first"
   ]
  },
  {
   "cell_type": "code",
   "execution_count": null,
   "id": "4c5c59c4",
   "metadata": {},
   "outputs": [],
   "source": [
    "# Use open_mfdataset to load all the nc files\n",
    "ds = xr.open_mfdataset('aviso_2015/*.nc')\n",
    "\n",
    "# Check data object\n",
    "# Notice that the values are not displayed\n",
    "ds"
   ]
  },
  {
   "cell_type": "code",
   "execution_count": null,
   "id": "07a684ec",
   "metadata": {},
   "outputs": [],
   "source": [
    "# Get sea surface height\n",
    "ssh = ds.adt\n",
    "\n",
    "# Check the data, this is a dask array\n",
    "ssh"
   ]
  },
  {
   "cell_type": "code",
   "execution_count": null,
   "id": "f17d5fe5",
   "metadata": {},
   "outputs": [],
   "source": [
    "# Plot the first day's data\n",
    "ssh[0]"
   ]
  },
  {
   "cell_type": "code",
   "execution_count": null,
   "id": "9a5b5722",
   "metadata": {},
   "outputs": [],
   "source": [
    "# Plot the first day's data\n",
    "ssh[0].plot()"
   ]
  },
  {
   "cell_type": "code",
   "execution_count": null,
   "id": "787d0311",
   "metadata": {},
   "outputs": [],
   "source": [
    "# Compute annual mean ssh\n",
    "ssh_2015_mean = ssh.mean(dim='time')\n",
    "\n",
    "# Need to use load function\n",
    "ssh_2015_mean.load()"
   ]
  },
  {
   "cell_type": "code",
   "execution_count": null,
   "id": "e3ba389b",
   "metadata": {},
   "outputs": [],
   "source": [
    "# Plot annual mean\n",
    "ssh_2015_mean.plot()"
   ]
  },
  {
   "cell_type": "code",
   "execution_count": null,
   "id": "04d1294a",
   "metadata": {},
   "outputs": [],
   "source": [
    "# Compute daily anomalies\n",
    "ssh_anom = ssh - ssh_2015_mean\n",
    "\n",
    "# Compute variance in daily anomalies\n",
    "ssh_variance = (ssh_anom**2).mean(dim=('time'))\n",
    "\n",
    "# This is an empty object\n",
    "ssh_variance"
   ]
  },
  {
   "cell_type": "code",
   "execution_count": null,
   "id": "7e9783c2",
   "metadata": {},
   "outputs": [],
   "source": [
    "# Compute the value\n",
    "ssh_variance.load()"
   ]
  },
  {
   "cell_type": "code",
   "execution_count": null,
   "id": "b7437c4f",
   "metadata": {},
   "outputs": [],
   "source": [
    "# Call plot function\n",
    "ssh_variance.plot()"
   ]
  },
  {
   "cell_type": "code",
   "execution_count": null,
   "id": "5d00e544",
   "metadata": {},
   "outputs": [],
   "source": [
    "# Close the client (local cluster)\n",
    "my_client.close()"
   ]
  }
 ],
 "metadata": {
  "kernelspec": {
   "display_name": "Python 3 (ipykernel)",
   "language": "python",
   "name": "python3"
  },
  "language_info": {
   "codemirror_mode": {
    "name": "ipython",
    "version": 3
   },
   "file_extension": ".py",
   "mimetype": "text/x-python",
   "name": "python",
   "nbconvert_exporter": "python",
   "pygments_lexer": "ipython3",
   "version": "3.8.8"
  }
 },
 "nbformat": 4,
 "nbformat_minor": 5
}
